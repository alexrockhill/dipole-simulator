{
 "cells": [
  {
   "cell_type": "code",
   "execution_count": 1,
   "metadata": {},
   "outputs": [],
   "source": [
    "%matplotlib widget\n",
    "\n",
    "import pathlib\n",
    "import numpy as np\n",
    "import matplotlib.pyplot as plt\n",
    "import mne\n",
    "from ipywidgets import IntSlider, HBox, VBox, Label\n",
    "\n",
    "\n",
    "REGENERATE_FWDS = False\n",
    "\n",
    "data_path = pathlib.Path('data')\n",
    "subjects_dir = data_path / 'subjects'\n",
    "subject = 'sample'\n",
    "\n",
    "# Read info.\n",
    "info_fname = data_path / 'sample-ave.fif'\n",
    "info = mne.io.read_info(info_fname, verbose='warning')\n",
    "info['projs'] = []\n",
    "picks = mne.pick_types(info, meg=True, eeg=True)\n",
    "info = mne.pick_info(info, picks)\n",
    "del info_fname, picks\n",
    "\n",
    "# Read trans.\n",
    "trans_fname = data_path / 'sample-trans.fif'\n",
    "trans = mne.read_trans(trans_fname)\n",
    "del trans_fname\n",
    "\n",
    "# t1_fname = str(subjects_dir / subject/ 'mri' / 'T1.mgz')\n",
    "# t1_img= nilearn.image.load_img(t1_fname)\n",
    "# del t1_fname\n",
    "\n",
    "if REGENERATE_FWDS:\n",
    "    # Read BEM.\n",
    "    bem_fname = data_path / 'sample-bem-sol.fif'\n",
    "    bem = mne.read_bem_solution(bem_fname, verbose=False)\n",
    "    del bem_fname"
   ]
  },
  {
   "cell_type": "code",
   "execution_count": 2,
   "metadata": {},
   "outputs": [],
   "source": [
    "fwds = dict()\n",
    "z_min, z_max = 60, 120\n",
    "z_dips = np.arange(z_min, z_max + 1, 10)\n",
    "x_pos, y_pos = 20, 20\n",
    "\n",
    "if REGENERATE_FWDS:\n",
    "    for z_pos in z_dips:\n",
    "        print(f'==> Generating dipole fwd solution for depth z={z_dip} mm.\\n')\n",
    "        ori = np.eye(3)\n",
    "        pos = (x_pos, y_pos, z_pos)\n",
    "        pos_meters = np.array([pos]) / 1e3\n",
    "        pos_meters = np.tile(pos_meters, (3, 1))\n",
    "        dip = mne.Dipole(times=np.arange(3), pos=pos_meters, amplitude=3 * [10e-9],\n",
    "                         ori=ori, gof=3 * [100])\n",
    "        fwd, _ = mne.make_forward_dipole(dip, bem=bem, info=info, trans=trans,\n",
    "                                        verbose='error')\n",
    "        fwd_fname = data_path / f'sample-{pos[0]}-{pos[1]}-{pos[2]}-fwd.fif'\n",
    "        mne.write_forward_solution(fwd_fname, fwd, overwrite=True)\n",
    "\n",
    "    del dip, fwd, pos, pos_meters, ori, z_pos\n",
    "\n",
    "for z_pos in z_dips:\n",
    "    pos = (x_pos, y_pos, z_pos)\n",
    "    fwd_fname = data_path / f'sample-{pos[0]}-{pos[1]}-{pos[2]}-fwd.fif'\n",
    "    fwd = mne.read_forward_solution(fwd_fname, verbose='warning')\n",
    "    fwd = mne.convert_forward_solution(fwd=fwd, force_fixed=True, verbose='warning')\n",
    "    fwds[pos] = fwd\n",
    "\n",
    "del z_pos, pos, fwd_fname, fwd"
   ]
  },
  {
   "cell_type": "code",
   "execution_count": 5,
   "metadata": {},
   "outputs": [],
   "source": [
    "def _gen_evoked(x, y, z, phi, theta, info, fwds):\n",
    "    phi_rad = np.deg2rad(phi)\n",
    "    theta_rad = np.deg2rad(theta)\n",
    "\n",
    "    ox = np.sin(theta_rad) * np.cos(phi_rad)\n",
    "    oy = np.sin(theta_rad) * np.sin(phi_rad)\n",
    "    oz = np.cos(theta_rad)\n",
    "\n",
    "    ori = np.array([[ox, oy, oz]])\n",
    "    dip_pos = (x, y, z)\n",
    "    leadfield = fwds[dip_pos]['sol']['data']\n",
    "    meeg_data = np.dot(leadfield, ori.T)  # compute forward\n",
    "    evoked = mne.EvokedArray(meeg_data, info)\n",
    "    return evoked\n",
    "\n",
    "\n",
    "def _gen_dipole(x, y, z, phi, theta):\n",
    "    phi_rad = np.deg2rad(phi)\n",
    "    theta_rad = np.deg2rad(theta)\n",
    "\n",
    "    ox = np.sin(theta_rad) * np.cos(phi_rad)\n",
    "    oy = np.sin(theta_rad) * np.sin(phi_rad)\n",
    "    oz = np.cos(theta_rad)\n",
    "\n",
    "    dip_pos = (x, y, z)\n",
    "\n",
    "    ori = np.array([[ox, oy, oz]])\n",
    "    pos = np.array([dip_pos]) / 1e3\n",
    "    dip = mne.Dipole(times=[0], pos=pos, amplitude=[10e-9], ori=ori, gof=[100])\n",
    "    return dip\n",
    "\n",
    "\n",
    "def plot(x_pos, y_pos, z_pos, phi, theta, info, fwds, axes, fig_axes):\n",
    "    evoked = _gen_evoked(x=x_pos, y=y_pos, z=z_pos, phi=phi, theta=theta, info=info, fwds=fwds)\n",
    "    dipole = _gen_dipole(x=x_pos, y=y_pos, z=z_pos, phi=phi, theta=theta)\n",
    "    \n",
    "    # Save azimuth and elevation from 3D projection – will be restored later!\n",
    "    azim = axes[0].azim\n",
    "    elev = axes[0].elev\n",
    "    \n",
    "    [ax.clear() for ax in axes]\n",
    "\n",
    "    for ax_num, ch_type in enumerate(['mag', 'grad', 'eeg'], start=1):\n",
    "        evoked.plot_topomap(ch_type=ch_type, colorbar=False,\n",
    "                            outlines='head',\n",
    "                            contours=0,\n",
    "                            nrows=1, ncols=1,\n",
    "                            times=evoked.times[-1],\n",
    "                            res=256,\n",
    "                            show=False,\n",
    "                            axes=axes[ax_num])\n",
    "        axes[ax_num].set_title(None)\n",
    "        axes[ax_num].text(0.5, -0.1, ch_type,\n",
    "                          horizontalalignment='center',\n",
    "                          verticalalignment='center',\n",
    "                          transform=axes[ax_num].transAxes,\n",
    "                          size=12, weight='bold')\n",
    "\n",
    "\n",
    "    dipole.plot_locations(trans=trans, subject=subject, subjects_dir=subjects_dir,\n",
    "                          ax=axes[0], show=False, coord_frame='head', title='foo')\n",
    "\n",
    "    # Restore camera position.\n",
    "    axes[0].view_init(elev=elev, azim=azim)\n",
    "    axes[0].axis('off')\n",
    "\n",
    "\n",
    "    [ax.axis('off') for ax in fig_axes.ravel()]\n",
    "    [ax.axis('off') for ax in axes]\n",
    "#     axes[0].get_figure().suptitle('Dipole Position & Orientation vs Sensor Signal',\n",
    "#                                    weight ='bold')\n",
    "#     plt.gcf().suptitle('Dipole Position & Orientation vs Sensor Signal',\n",
    "#                        weight ='bold')\n",
    "\n",
    "\n",
    "def _on_phi_slider_change(change):\n",
    "    _toggle_sliders_disabled()\n",
    "    _widget_vals['phi_slider'] = change['new']\n",
    "    _update_plot()\n",
    "    _toggle_sliders_disabled()\n",
    "\n",
    "\n",
    "def _on_theta_slider_change(change):\n",
    "    _toggle_sliders_disabled()\n",
    "    _widget_vals['theta_slider'] = change['new']\n",
    "    _update_plot()\n",
    "    _toggle_sliders_disabled()\n",
    "\n",
    "\n",
    "def _on_z_slider_change(change):\n",
    "    _toggle_sliders_disabled()\n",
    "    _widget_vals['z_slider'] = change['new']\n",
    "    _update_plot()\n",
    "    _toggle_sliders_disabled()\n",
    "\n",
    "\n",
    "def _toggle_sliders_disabled():\n",
    "    widgets['phi_slider'].disabled = not widgets['phi_slider'].disabled\n",
    "    widgets['theta_slider'].disabled = not widgets['theta_slider'].disabled\n",
    "    widgets['z_slider'].disabled = not widgets['z_slider'].disabled\n",
    "\n",
    "\n",
    "def _update_plot():\n",
    "    widgets['fig_title'].value = 'Updating…'\n",
    "    plot(phi=_widget_vals['phi_slider'],\n",
    "         theta=_widget_vals['theta_slider'],\n",
    "         x_pos=x_pos,\n",
    "         y_pos=y_pos,\n",
    "         z_pos=_widget_vals['z_slider'],\n",
    "         fwds=fwds, info=info,\n",
    "         axes=axes, fig_axes=fig_axes)\n",
    "    widgets['fig_title'].value = 'Ready.'\n",
    "\n",
    "\n",
    "def _get_widgets():\n",
    "    style = {'description_width': 'initial'}\n",
    "\n",
    "    phi_slider = IntSlider(description='azimuth φ (deg)',\n",
    "                           description_tooltip='Rotate the dipole on the x-y plane',\n",
    "                           min=-180, max=180,\n",
    "                           step=1, value=0, continuous_update=False, style=style)\n",
    "    phi_slider.observe(_on_phi_slider_change, names='value')\n",
    "\n",
    "    theta_slider = IntSlider(description='polar angle θ (deg)',\n",
    "                             description_tooltip='Adjust the dipole elevation',\n",
    "                             min=-90, max=90,\n",
    "                             step=1, value=45, continuous_update=False, style=style)\n",
    "    theta_slider.observe(_on_theta_slider_change, names='value')\n",
    "    \n",
    "    z_slider = IntSlider(description='z pos (mm)',\n",
    "                         description_tooltip='Select brain slice at this z coordinate',\n",
    "                         min=z_min, max=z_max, step=10,\n",
    "                         value=80, continuous_update=False, orientation='vertical',\n",
    "                         style=style)\n",
    "    z_slider.observe(_on_z_slider_change, names='value')\n",
    "    \n",
    "    fig_title = Label('Ready.')\n",
    "\n",
    "    widgets = dict(phi_slider=phi_slider,\n",
    "                   theta_slider=theta_slider,\n",
    "                   z_slider=z_slider,\n",
    "                   fig_title=fig_title)\n",
    "    return widgets\n",
    "\n",
    "\n",
    "def _get_axes():\n",
    "    widths = [8, 5, 5, 5]\n",
    "    heights = [8]\n",
    "    \n",
    "    plt.ioff()\n",
    "    gs_kw = dict(width_ratios=widths, height_ratios=heights)\n",
    "    fig, fig_axes = plt.subplots(ncols=4, nrows=1,\n",
    "                          gridspec_kw=gs_kw, figsize=(10, 3))\n",
    "    fig.canvas.toolbar_visible = False\n",
    "    fig.canvas.header_visible = False\n",
    "\n",
    "    grid_axes = fig_axes[1].get_gridspec()\n",
    "\n",
    "    axes = []\n",
    "    axes.append(fig.add_subplot(grid_axes[0], projection='3d'))\n",
    "    axes[-1].view_init(azim=-135, elev=40)\n",
    "    axes.append(fig.add_subplot(grid_axes[1]))\n",
    "    axes.append(fig.add_subplot(grid_axes[2]))\n",
    "    axes.append(fig.add_subplot(grid_axes[3]))\n",
    "    fig.set_tight_layout(True)\n",
    "    return fig, fig_axes, axes"
   ]
  },
  {
   "cell_type": "code",
   "execution_count": 6,
   "metadata": {},
   "outputs": [
    {
     "data": {
      "application/vnd.jupyter.widget-view+json": {
       "model_id": "11b6e25357274293a7cd282e8b671d20",
       "version_major": 2,
       "version_minor": 0
      },
      "text/plain": [
       "VBox(children=(Label(value='Ready.'), HBox(children=(IntSlider(value=80, continuous_update=False, description=…"
      ]
     },
     "metadata": {},
     "output_type": "display_data"
    }
   ],
   "source": [
    "widgets = _get_widgets()\n",
    "_widget_vals = dict(zip(widgets.keys(), [v.value for v in widgets.values()]))\n",
    "\n",
    "\n",
    "fig, fig_axes, axes  = _get_axes()\n",
    "\n",
    "plot(phi=widgets['phi_slider'].value,\n",
    "     theta=widgets['theta_slider'].value,\n",
    "     x_pos=x_pos,\n",
    "     y_pos=y_pos,\n",
    "     z_pos=widgets['z_slider'].value,\n",
    "     fwds=fwds,\n",
    "     info=info,\n",
    "     axes=axes,\n",
    "     fig_axes=fig_axes)\n",
    "\n",
    "\n",
    "# output = interactive_plot.children[-1]\n",
    "# output.layout.height = '600px'\n",
    "# interactive_plot\n",
    "\n",
    "first_row = HBox([widgets['z_slider'], fig.canvas])\n",
    "second_row = VBox([widgets['phi_slider'], widgets['theta_slider']])\n",
    "app = VBox([widgets['fig_title'], first_row, second_row])\n",
    "app.layout.height = '500px'\n",
    "app"
   ]
  },
  {
   "cell_type": "code",
   "execution_count": 5,
   "metadata": {},
   "outputs": [],
   "source": [
    "# widgets = _get_widgets()\n",
    "# _widget_vals = dict(zip(widgets.keys(), [v.value for v in widgets.values()]))\n",
    "\n"
   ]
  },
  {
   "cell_type": "code",
   "execution_count": 6,
   "metadata": {},
   "outputs": [],
   "source": [
    "# widgets['phi_slider'].layout"
   ]
  },
  {
   "cell_type": "code",
   "execution_count": null,
   "metadata": {},
   "outputs": [],
   "source": []
  },
  {
   "cell_type": "code",
   "execution_count": 6,
   "metadata": {},
   "outputs": [],
   "source": [
    "s =fwds[(20,20,60)]['src']"
   ]
  },
  {
   "cell_type": "code",
   "execution_count": 7,
   "metadata": {},
   "outputs": [
    {
     "data": {
      "text/plain": [
       "{}"
      ]
     },
     "execution_count": 7,
     "metadata": {},
     "output_type": "execute_result"
    }
   ],
   "source": [
    "s.info"
   ]
  },
  {
   "cell_type": "code",
   "execution_count": 8,
   "metadata": {},
   "outputs": [
    {
     "data": {
      "text/plain": [
       "mne.source_space.SourceSpaces"
      ]
     },
     "execution_count": 8,
     "metadata": {},
     "output_type": "execute_result"
    }
   ],
   "source": [
    "type(s)"
   ]
  },
  {
   "cell_type": "code",
   "execution_count": 9,
   "metadata": {},
   "outputs": [
    {
     "data": {
      "text/plain": [
       "{'id': 102,\n",
       " 'type': 'discrete',\n",
       " 'np': 3,\n",
       " 'ntri': 0,\n",
       " 'coord_frame': 4,\n",
       " 'rr': array([[0.02, 0.02, 0.06],\n",
       "        [0.02, 0.02, 0.06],\n",
       "        [0.02, 0.02, 0.06]]),\n",
       " 'nn': array([[ 1.00000002e+00, -4.97476060e-10,  7.79006637e-10],\n",
       "        [-5.71790948e-10,  1.00000000e+00,  3.34419020e-09],\n",
       "        [-2.29576358e-10,  2.28268171e-09,  1.00000001e+00]]),\n",
       " 'tris': None,\n",
       " 'nuse': 3,\n",
       " 'inuse': array([1, 1, 1]),\n",
       " 'vertno': array([0, 1, 2]),\n",
       " 'nuse_tri': 0,\n",
       " 'use_tris': None,\n",
       " 'nearest': None,\n",
       " 'nearest_dist': None,\n",
       " 'pinfo': None,\n",
       " 'patch_inds': None,\n",
       " 'dist': None,\n",
       " 'dist_limit': None,\n",
       " 'subject_his_id': None}"
      ]
     },
     "execution_count": 9,
     "metadata": {},
     "output_type": "execute_result"
    }
   ],
   "source": [
    "s[0]"
   ]
  },
  {
   "cell_type": "code",
   "execution_count": 10,
   "metadata": {},
   "outputs": [
    {
     "data": {
      "text/plain": [
       "<Info | 13 non-empty values\n",
       " bads: []\n",
       " ch_names: MEG 0113, MEG 0112, MEG 0111, MEG 0122, MEG 0123, MEG 0121, MEG ...\n",
       " chs: 204 GRAD, 102 MAG, 60 EEG\n",
       " custom_ref_applied: False\n",
       " dev_head_t: MEG device -> head transform\n",
       " dig: 146 items (3 Cardinal, 4 HPI, 61 EEG, 78 Extra)\n",
       " file_id: 4 items (dict)\n",
       " highpass: 0.1 Hz\n",
       " hpi_meas: 1 item (list)\n",
       " hpi_results: 1 item (list)\n",
       " lowpass: 40.0 Hz\n",
       " meas_date: 2002-12-03 19:01:10 UTC\n",
       " meas_id: 4 items (dict)\n",
       " nchan: 366\n",
       " projs: []\n",
       " sfreq: 600.6 Hz\n",
       ">"
      ]
     },
     "execution_count": 10,
     "metadata": {},
     "output_type": "execute_result"
    }
   ],
   "source": [
    "info"
   ]
  },
  {
   "cell_type": "code",
   "execution_count": 11,
   "metadata": {},
   "outputs": [
    {
     "data": {
      "text/plain": [
       "[<DigPoint |        LPA : (-71.4, 0.0, 0.0) mm      : head frame>,\n",
       " <DigPoint |     Nasion : (0.0, 102.6, 0.0) mm      : head frame>,\n",
       " <DigPoint |        RPA : (75.3, 0.0, 0.0) mm       : head frame>,\n",
       " <DigPoint |     HPI #1 : (32.9, 99.0, 79.8) mm     : head frame>,\n",
       " <DigPoint |     HPI #2 : (-70.0, 67.7, 68.9) mm    : head frame>,\n",
       " <DigPoint |     HPI #3 : (-72.6, -20.9, 97.1) mm   : head frame>,\n",
       " <DigPoint |     HPI #4 : (50.0, -7.2, 122.9) mm    : head frame>,\n",
       " <DigPoint |   Extra #1 : (6.5, 109.8, -45.8) mm    : head frame>,\n",
       " <DigPoint |   Extra #2 : (5.6, 111.5, -34.7) mm    : head frame>,\n",
       " <DigPoint |   Extra #3 : (5.2, 110.0, -27.4) mm    : head frame>,\n",
       " <DigPoint |   Extra #4 : (6.2, 105.5, -18.9) mm    : head frame>,\n",
       " <DigPoint |   Extra #5 : (4.7, 103.9, -6.4) mm     : head frame>,\n",
       " <DigPoint |   Extra #6 : (3.3, 113.9, 15.4) mm     : head frame>,\n",
       " <DigPoint |   Extra #7 : (1.7, 115.4, 28.3) mm     : head frame>,\n",
       " <DigPoint |   Extra #8 : (3.7, 116.2, 38.7) mm     : head frame>,\n",
       " <DigPoint |   Extra #9 : (3.3, 115.6, 55.9) mm     : head frame>,\n",
       " <DigPoint |  Extra #10 : (-0.8, 110.2, 77.9) mm    : head frame>,\n",
       " <DigPoint |  Extra #11 : (-4.2, 101.8, 96.2) mm    : head frame>,\n",
       " <DigPoint |  Extra #12 : (-6.4, 85.9, 112.0) mm    : head frame>,\n",
       " <DigPoint |  Extra #13 : (-6.8, 72.9, 120.4) mm    : head frame>,\n",
       " <DigPoint |  Extra #14 : (-5.2, 54.8, 128.9) mm    : head frame>,\n",
       " <DigPoint |  Extra #15 : (-3.6, 40.5, 136.1) mm    : head frame>,\n",
       " <DigPoint |  Extra #16 : (-8.6, 23.0, 142.6) mm    : head frame>,\n",
       " <DigPoint |  Extra #17 : (-10.0, 8.2, 145.4) mm    : head frame>,\n",
       " <DigPoint |  Extra #18 : (-7.0, -7.9, 144.7) mm    : head frame>,\n",
       " <DigPoint |  Extra #19 : (-10.1, -20.8, 137.8) mm  : head frame>,\n",
       " <DigPoint |  Extra #20 : (-12.0, -33.9, 131.7) mm  : head frame>,\n",
       " <DigPoint |  Extra #21 : (-11.5, -55.1, 112.2) mm  : head frame>,\n",
       " <DigPoint |  Extra #22 : (-13.1, -67.9, 98.0) mm   : head frame>,\n",
       " <DigPoint |  Extra #23 : (-12.5, -73.3, 87.6) mm   : head frame>,\n",
       " <DigPoint |  Extra #24 : (-10.8, -80.9, 66.9) mm   : head frame>,\n",
       " <DigPoint |  Extra #25 : (-7.2, -85.9, 52.9) mm    : head frame>,\n",
       " <DigPoint |  Extra #26 : (48.5, 93.9, 35.9) mm     : head frame>,\n",
       " <DigPoint |  Extra #27 : (47.3, 93.3, 56.9) mm     : head frame>,\n",
       " <DigPoint |  Extra #28 : (49.4, 78.4, 81.3) mm     : head frame>,\n",
       " <DigPoint |  Extra #29 : (41.7, 59.3, 107.0) mm    : head frame>,\n",
       " <DigPoint |  Extra #30 : (39.0, 32.4, 124.2) mm    : head frame>,\n",
       " <DigPoint |  Extra #31 : (26.5, -2.6, 138.4) mm    : head frame>,\n",
       " <DigPoint |  Extra #32 : (25.1, -24.9, 134.3) mm   : head frame>,\n",
       " <DigPoint |  Extra #33 : (19.3, -48.2, 118.5) mm   : head frame>,\n",
       " <DigPoint |  Extra #34 : (27.8, -73.8, 85.4) mm    : head frame>,\n",
       " <DigPoint |  Extra #35 : (39.0, -51.6, 100.1) mm   : head frame>,\n",
       " <DigPoint |  Extra #36 : (45.6, -37.0, 108.9) mm   : head frame>,\n",
       " <DigPoint |  Extra #37 : (60.6, -10.3, 104.7) mm   : head frame>,\n",
       " <DigPoint |  Extra #38 : (67.1, 12.4, 98.9) mm     : head frame>,\n",
       " <DigPoint |  Extra #39 : (68.1, 30.4, 90.4) mm     : head frame>,\n",
       " <DigPoint |  Extra #40 : (70.6, 44.5, 68.6) mm     : head frame>,\n",
       " <DigPoint |  Extra #41 : (71.0, 52.7, 54.0) mm     : head frame>,\n",
       " <DigPoint |  Extra #42 : (67.3, 52.7, 31.5) mm     : head frame>,\n",
       " <DigPoint |  Extra #43 : (70.5, 31.8, 29.8) mm     : head frame>,\n",
       " <DigPoint |  Extra #44 : (76.4, 28.2, 51.5) mm     : head frame>,\n",
       " <DigPoint |  Extra #45 : (75.9, -3.5, 59.4) mm     : head frame>,\n",
       " <DigPoint |  Extra #46 : (72.5, -18.9, 65.6) mm    : head frame>,\n",
       " <DigPoint |  Extra #47 : (64.9, -41.1, 59.0) mm    : head frame>,\n",
       " <DigPoint |  Extra #48 : (56.7, -54.6, 43.1) mm    : head frame>,\n",
       " <DigPoint |  Extra #49 : (-10.5, 115.5, 22.4) mm   : head frame>,\n",
       " <DigPoint |  Extra #50 : (-16.5, 115.8, 46.7) mm   : head frame>,\n",
       " <DigPoint |  Extra #51 : (-20.5, 112.5, 62.7) mm   : head frame>,\n",
       " <DigPoint |  Extra #52 : (-26.6, 102.7, 81.9) mm   : head frame>,\n",
       " <DigPoint |  Extra #53 : (-29.1, 90.6, 98.2) mm    : head frame>,\n",
       " <DigPoint |  Extra #54 : (-32.4, 77.5, 108.3) mm   : head frame>,\n",
       " <DigPoint |  Extra #55 : (-40.1, 48.2, 122.1) mm   : head frame>,\n",
       " <DigPoint |  Extra #56 : (-42.6, 15.2, 132.4) mm   : head frame>,\n",
       " <DigPoint |  Extra #57 : (-45.8, -9.8, 132.1) mm   : head frame>,\n",
       " <DigPoint |  Extra #58 : (-40.7, -41.5, 120.1) mm  : head frame>,\n",
       " <DigPoint |  Extra #59 : (-39.7, -64.4, 94.0) mm   : head frame>,\n",
       " <DigPoint |  Extra #60 : (-50.9, 98.6, 42.5) mm    : head frame>,\n",
       " <DigPoint |  Extra #61 : (-56.3, 94.1, 60.4) mm    : head frame>,\n",
       " <DigPoint |  Extra #62 : (-57.8, 81.5, 71.7) mm    : head frame>,\n",
       " <DigPoint |  Extra #63 : (-63.9, 59.0, 93.3) mm    : head frame>,\n",
       " <DigPoint |  Extra #64 : (89.8, 76.3, -6.2) mm     : head frame>,\n",
       " <DigPoint |  Extra #65 : (-72.0, 31.2, 98.1) mm    : head frame>,\n",
       " <DigPoint |  Extra #66 : (-74.0, 13.1, 101.0) mm   : head frame>,\n",
       " <DigPoint |  Extra #67 : (-73.6, -9.3, 100.2) mm   : head frame>,\n",
       " <DigPoint |  Extra #68 : (-64.1, -52.2, 71.6) mm   : head frame>,\n",
       " <DigPoint |  Extra #69 : (-62.1, 84.4, 23.0) mm    : head frame>,\n",
       " <DigPoint |  Extra #70 : (-68.4, 69.2, 27.6) mm    : head frame>,\n",
       " <DigPoint |  Extra #71 : (-74.9, 58.7, 38.5) mm    : head frame>,\n",
       " <DigPoint |  Extra #72 : (-78.0, 42.2, 42.1) mm    : head frame>,\n",
       " <DigPoint |  Extra #73 : (-81.6, 30.3, 42.6) mm    : head frame>,\n",
       " <DigPoint |  Extra #74 : (-83.0, 13.3, 50.4) mm    : head frame>,\n",
       " <DigPoint |  Extra #75 : (-82.7, -5.5, 45.8) mm    : head frame>,\n",
       " <DigPoint |  Extra #76 : (-80.2, -22.9, 38.9) mm   : head frame>,\n",
       " <DigPoint |  Extra #77 : (-68.5, -42.3, 34.0) mm   : head frame>,\n",
       " <DigPoint |  Extra #78 : (-58.4, -54.6, 28.5) mm   : head frame>,\n",
       " <DigPoint |     EEG #0 : (2.4, 111.0, -35.0) mm    : head frame>,\n",
       " <DigPoint |     EEG #1 : (-37.4, 105.7, 73.3) mm   : head frame>,\n",
       " <DigPoint |     EEG #2 : (-14.9, 110.8, 76.5) mm   : head frame>,\n",
       " <DigPoint |     EEG #3 : (12.1, 109.6, 77.4) mm    : head frame>,\n",
       " <DigPoint |     EEG #4 : (-65.7, 78.2, 65.5) mm    : head frame>,\n",
       " <DigPoint |     EEG #5 : (-50.6, 84.5, 88.3) mm    : head frame>,\n",
       " <DigPoint |     EEG #6 : (25.3, 89.1, 99.8) mm     : head frame>,\n",
       " <DigPoint |     EEG #7 : (43.5, 91.5, 76.1) mm     : head frame>,\n",
       " <DigPoint |     EEG #8 : (-77.9, 57.4, 57.0) mm    : head frame>,\n",
       " <DigPoint |     EEG #9 : (-70.7, 59.4, 83.8) mm    : head frame>,\n",
       " <DigPoint |    EEG #10 : (-58.9, 64.0, 101.2) mm   : head frame>,\n",
       " <DigPoint |    EEG #11 : (-37.8, 63.7, 118.4) mm   : head frame>,\n",
       " <DigPoint |    EEG #12 : (-16.7, 68.8, 124.4) mm   : head frame>,\n",
       " <DigPoint |    EEG #13 : (9.2, 67.7, 122.9) mm     : head frame>,\n",
       " <DigPoint |    EEG #14 : (29.6, 63.5, 116.8) mm    : head frame>,\n",
       " <DigPoint |    EEG #15 : (50.7, 67.7, 93.9) mm     : head frame>,\n",
       " <DigPoint |    EEG #16 : (67.3, 58.8, 72.4) mm     : head frame>,\n",
       " <DigPoint |    EEG #17 : (-82.6, 21.7, 29.5) mm    : head frame>,\n",
       " <DigPoint |    EEG #18 : (-85.4, 28.8, 53.3) mm    : head frame>,\n",
       " <DigPoint |    EEG #19 : (-81.1, 30.0, 83.4) mm    : head frame>,\n",
       " <DigPoint |    EEG #20 : (-43.3, 29.3, 131.2) mm   : head frame>,\n",
       " <DigPoint |    EEG #21 : (13.8, 38.5, 135.8) mm    : head frame>,\n",
       " <DigPoint |    EEG #22 : (62.3, 39.0, 104.9) mm    : head frame>,\n",
       " <DigPoint |    EEG #23 : (76.3, 31.8, 75.4) mm     : head frame>,\n",
       " <DigPoint |    EEG #24 : (81.1, 19.9, 47.5) mm     : head frame>,\n",
       " <DigPoint |    EEG #25 : (-87.6, -10.7, 36.5) mm   : head frame>,\n",
       " <DigPoint |    EEG #26 : (-82.1, -1.5, 54.7) mm    : head frame>,\n",
       " <DigPoint |    EEG #27 : (-80.2, 4.1, 85.2) mm     : head frame>,\n",
       " <DigPoint |    EEG #28 : (-69.4, 6.7, 115.4) mm    : head frame>,\n",
       " <DigPoint |    EEG #29 : (-46.6, 10.1, 134.1) mm   : head frame>,\n",
       " <DigPoint |    EEG #30 : (-16.3, 9.3, 145.2) mm    : head frame>,\n",
       " <DigPoint |    EEG #31 : (13.2, 11.9, 145.3) mm    : head frame>,\n",
       " <DigPoint |    EEG #32 : (41.5, 8.9, 133.4) mm     : head frame>,\n",
       " <DigPoint |    EEG #33 : (66.3, 7.4, 108.0) mm     : head frame>,\n",
       " <DigPoint |    EEG #34 : (78.3, 0.6, 77.4) mm      : head frame>,\n",
       " <DigPoint |    EEG #35 : (82.3, -11.5, 53.6) mm    : head frame>,\n",
       " <DigPoint |    EEG #36 : (-78.5, -35.7, 30.1) mm   : head frame>,\n",
       " <DigPoint |    EEG #37 : (-77.2, -27.8, 57.1) mm   : head frame>,\n",
       " <DigPoint |    EEG #38 : (-67.6, -14.9, 112.7) mm  : head frame>,\n",
       " <DigPoint |    EEG #39 : (-47.0, -22.5, 132.2) mm  : head frame>,\n",
       " <DigPoint |    EEG #40 : (12.8, -18.1, 143.5) mm   : head frame>,\n",
       " <DigPoint |    EEG #41 : (42.9, -19.4, 128.0) mm   : head frame>,\n",
       " <DigPoint |    EEG #42 : (69.6, -23.3, 84.8) mm    : head frame>,\n",
       " <DigPoint |    EEG #43 : (73.0, -36.9, 52.5) mm    : head frame>,\n",
       " <DigPoint |    EEG #44 : (-70.6, -51.1, 65.0) mm   : head frame>,\n",
       " <DigPoint |    EEG #45 : (-64.4, -45.3, 88.4) mm   : head frame>,\n",
       " <DigPoint |    EEG #46 : (-53.5, -43.5, 109.1) mm  : head frame>,\n",
       " <DigPoint |    EEG #47 : (-37.7, -46.9, 119.7) mm  : head frame>,\n",
       " <DigPoint |    EEG #48 : (-12.7, -45.6, 127.3) mm  : head frame>,\n",
       " <DigPoint |    EEG #49 : (12.6, -50.0, 124.4) mm   : head frame>,\n",
       " <DigPoint |    EEG #50 : (32.3, -43.6, 121.8) mm   : head frame>,\n",
       " <DigPoint |    EEG #51 : (48.1, -46.0, 107.1) mm   : head frame>,\n",
       " <DigPoint |    EEG #52 : (60.5, -46.5, 82.7) mm    : head frame>,\n",
       " <DigPoint |    EEG #53 : (-55.1, -61.5, 64.9) mm   : head frame>,\n",
       " <DigPoint |    EEG #54 : (-47.8, -66.5, 85.7) mm   : head frame>,\n",
       " <DigPoint |    EEG #55 : (26.6, -64.5, 104.5) mm   : head frame>,\n",
       " <DigPoint |    EEG #56 : (42.0, -69.8, 81.0) mm    : head frame>,\n",
       " <DigPoint |    EEG #57 : (-37.1, -75.9, 76.4) mm   : head frame>,\n",
       " <DigPoint |    EEG #58 : (-8.3, -80.1, 81.0) mm    : head frame>,\n",
       " <DigPoint |    EEG #59 : (19.0, -77.0, 85.4) mm    : head frame>,\n",
       " <DigPoint |    EEG #60 : (-9.2, -88.6, 44.2) mm    : head frame>]"
      ]
     },
     "execution_count": 11,
     "metadata": {},
     "output_type": "execute_result"
    }
   ],
   "source": [
    "info['dig']"
   ]
  },
  {
   "cell_type": "code",
   "execution_count": 46,
   "metadata": {},
   "outputs": [
    {
     "data": {
      "text/plain": [
       "<Response [200]>"
      ]
     },
     "execution_count": 46,
     "metadata": {},
     "output_type": "execute_result"
    }
   ],
   "source": []
  },
  {
   "cell_type": "code",
   "execution_count": 49,
   "metadata": {},
   "outputs": [
    {
     "data": {
      "text/plain": [
       "<function requests.api.head(url, **kwargs)>"
      ]
     },
     "execution_count": 49,
     "metadata": {},
     "output_type": "execute_result"
    }
   ],
   "source": [
    "import requests\n",
    "requests.head"
   ]
  },
  {
   "cell_type": "code",
   "execution_count": 39,
   "metadata": {},
   "outputs": [
    {
     "name": "stdout",
     "output_type": "stream",
     "text": [
      "https://zenodo.org/api/files/07aaa144-303e-4a6b-84de-9e8f3afa44e8/Figures_of_Threshold_Runs.zip\n"
     ]
    }
   ],
   "source": [
    "zenodo_files = r.json()['files']\n",
    "for file in zenodo_files:\n",
    "    if file['key'] == 'Figures_of_Threshold_Runs.zip':\n",
    "        print(file['links']['self'])"
   ]
  },
  {
   "cell_type": "code",
   "execution_count": 40,
   "metadata": {},
   "outputs": [],
   "source": [
    "r = requests.get(\"https://zenodo.org/api/files/07aaa144-303e-4a6b-84de-9e8f3afa44e8/Figures_of_Threshold_Runs.zip\")\n",
    "\n"
   ]
  },
  {
   "cell_type": "code",
   "execution_count": 42,
   "metadata": {},
   "outputs": [],
   "source": [
    "with open('/tmp/foo.zip', 'wb') as f:\n",
    "    f.write(r.content)"
   ]
  },
  {
   "cell_type": "code",
   "execution_count": 50,
   "metadata": {},
   "outputs": [
    {
     "data": {
      "text/plain": [
       "200"
      ]
     },
     "execution_count": 50,
     "metadata": {},
     "output_type": "execute_result"
    }
   ],
   "source": [
    "r.status_code"
   ]
  },
  {
   "cell_type": "code",
   "execution_count": null,
   "metadata": {},
   "outputs": [],
   "source": []
  }
 ],
 "metadata": {
  "file_extension": ".py",
  "kernelspec": {
   "display_name": "Python 3.8.2 64-bit ('mne-dev-new': conda)",
   "language": "python",
   "name": "python38264bitmnedevnewcondaba5b821159474ae09b9492de0a025558"
  },
  "language_info": {
   "codemirror_mode": {
    "name": "ipython",
    "version": 3
   },
   "file_extension": ".py",
   "mimetype": "text/x-python",
   "name": "python",
   "nbconvert_exporter": "python",
   "pygments_lexer": "ipython3",
   "version": "3.8.2"
  },
  "mimetype": "text/x-python",
  "name": "python",
  "npconvert_exporter": "python",
  "pygments_lexer": "ipython3",
  "version": 3
 },
 "nbformat": 4,
 "nbformat_minor": 4
}
